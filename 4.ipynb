{
  "nbformat": 4,
  "nbformat_minor": 0,
  "metadata": {
    "colab": {
      "name": "4.ipynb",
      "provenance": [],
      "authorship_tag": "ABX9TyNQg8gkw+CdwUqdNTqiLZuG"
    },
    "kernelspec": {
      "name": "python3",
      "display_name": "Python 3"
    },
    "language_info": {
      "name": "python"
    }
  },
  "cells": [
    {
      "cell_type": "markdown",
      "metadata": {
        "id": "D-85bYd29JwV"
      },
      "source": [
        "# 문제 설명: 로또의 최고 순위와 최저 순위\n",
        "로또 6/45(이하 '로또'로 표기)는 1부터 45까지의 숫자 중 6개를 찍어서 맞히는 대표적인 복권입니다. 아래는 로또의 순위를 정하는 방식입니다. \n",
        "\n",
        "**순위\t당첨 내용**\n",
        "1.\t6개 번호가 모두 일치\n",
        "2.\t5개 번호가 일치\n",
        "3.\t4개 번호가 일치\n",
        "4.\t3개 번호가 일치\n",
        "5.\t2개 번호가 일치\n",
        "6. (낙첨)\t그 외\n",
        "\n",
        "* 알아볼 수 없는 번호를 0으로 표기합니다.\n",
        "* 순서와 상관없이, 구매한 로또에 당첨 번호와 일치하는 번호가 있으면 맞힌 걸로 인정됩니다.\n",
        "\n"
      ]
    },
    {
      "cell_type": "code",
      "metadata": {
        "id": "wXp21kWC9JM8"
      },
      "source": [
        "def solution(lottos, win_nums):\n",
        "    answer = []\n",
        "    match = []\n",
        "    num_0 = 0   \n",
        "    for l in lottos:\n",
        "        if l == 0:\n",
        "            num_0 += 1\n",
        "    for i in lottos:\n",
        "        for j in win_nums:\n",
        "            if i == j:\n",
        "                match.append(i)\n",
        "    for k in [len(match) + num_0, len(match)]:\n",
        "        if k >= 2:\n",
        "            answer.append(7-k)\n",
        "        else:\n",
        "            answer.append(6)\n",
        "    return answer"
      ],
      "execution_count": 1,
      "outputs": []
    },
    {
      "cell_type": "code",
      "metadata": {
        "colab": {
          "base_uri": "https://localhost:8080/"
        },
        "id": "I53nLDJq-JKw",
        "outputId": "be6d5ff5-b159-45a4-9a2f-11de7eeb77a7"
      },
      "source": [
        "lo_ex = [44, 1, 0, 0, 31, 25]\n",
        "win_ex = [31, 10, 45, 1, 6, 19]\n",
        "solution(lo_ex, win_ex)"
      ],
      "execution_count": 2,
      "outputs": [
        {
          "output_type": "execute_result",
          "data": {
            "text/plain": [
              "[3, 5]"
            ]
          },
          "metadata": {
            "tags": []
          },
          "execution_count": 2
        }
      ]
    },
    {
      "cell_type": "code",
      "metadata": {
        "colab": {
          "base_uri": "https://localhost:8080/"
        },
        "id": "upzALwCw-W5Z",
        "outputId": "df28d712-9f82-4456-e24e-0f5cd78fb9f1"
      },
      "source": [
        "lo_ex = [0, 0, 0, 0, 0, 0]\t\n",
        "win_ex = \t[38, 19, 20, 40, 15, 25]\n",
        "solution(lo_ex, win_ex)"
      ],
      "execution_count": 3,
      "outputs": [
        {
          "output_type": "execute_result",
          "data": {
            "text/plain": [
              "[1, 6]"
            ]
          },
          "metadata": {
            "tags": []
          },
          "execution_count": 3
        }
      ]
    },
    {
      "cell_type": "code",
      "metadata": {
        "colab": {
          "base_uri": "https://localhost:8080/"
        },
        "id": "F0NLuQ0z-Xdw",
        "outputId": "3dd1a422-4a15-4a34-ca90-c460776fbe82"
      },
      "source": [
        "lo_ex = [45, 4, 35, 20, 3, 9]\n",
        "win_ex = [20, 9, 3, 45, 4, 35]\n",
        "solution(lo_ex, win_ex)"
      ],
      "execution_count": 4,
      "outputs": [
        {
          "output_type": "execute_result",
          "data": {
            "text/plain": [
              "[1, 1]"
            ]
          },
          "metadata": {
            "tags": []
          },
          "execution_count": 4
        }
      ]
    }
  ]
}