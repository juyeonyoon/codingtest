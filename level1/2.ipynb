{
  "nbformat": 4,
  "nbformat_minor": 0,
  "metadata": {
    "colab": {
      "name": "2.ipynb",
      "provenance": [],
      "authorship_tag": "ABX9TyNbpslLGHOfNLFbCwRTlfEw"
    },
    "kernelspec": {
      "name": "python3",
      "display_name": "Python 3"
    },
    "language_info": {
      "name": "python"
    }
  },
  "cells": [
    {
      "cell_type": "markdown",
      "metadata": {
        "id": "qGhZMXUdt6b8"
      },
      "source": [
        "# 문제 설명: 키패드 누르기\n",
        "스마트폰 전화 키패드의 각 칸에 다음과 같이 숫자들이 적혀 있습니다.\n",
        "\n",
        "이 전화 키패드에서 왼손과 오른손의 엄지손가락만을 이용해서 숫자만을 입력하려고 합니다.\n",
        "맨 처음 왼손 엄지손가락은 * 키패드에 오른손 엄지손가락은 # 키패드 위치에서 시작하며, 엄지손가락을 사용하는 규칙은 다음과 같습니다.\n",
        "\n",
        "\n",
        "1. 엄지손가락은 상하좌우 4가지 방향으로만 이동할 수 있으며 키패드 이동 한 칸은 거리로 1에 해당합니다.\n",
        "2. 왼쪽 열의 3개의 숫자 1, 4, 7을 입력할 때는 왼손 엄지손가락을 사용합니다. \n",
        "3. 오른쪽 열의 3개의 숫자 3, 6, 9를 입력할 때는 오른손 엄지손가락을 사용합니다.\n",
        "4. 가운데 열의 4개의 숫자 2, 5, 8, 0을 입력할 때는 두 엄지손가락의 현재 키패드의 위치에서 더 가까운 엄지손가락을 사용합니다.\n",
        "\n",
        " 4-1. 만약 두 엄지손가락의 거리가 같다면, 오른손잡이는 오른손 엄지손가락, 왼손잡이는 왼손 엄지손가락을 사용합니다.\n",
        "\n",
        "순서대로 누를 번호가 담긴 배열 numbers, 왼손잡이인지 오른손잡이인 지를 나타내는 문자열 hand가 매개변수로 주어질 때, 각 번호를 누른 엄지손가락이 왼손인 지 오른손인 지를 나타내는 연속된 문자열 형태로 return 하도록 solution 함수를 완성해주세요.\n",
        "\n",
        "**[제한사항]**\n",
        "\n",
        "\n",
        "* numbers 배열의 크기는 1 이상 1,000 이하입니다.  \n",
        "* numbers 배열 원소의 값은 0 이상 9 이하인 정수입니다.\n",
        "* hand는 \"left\" 또는 \"right\" 입니다.\n",
        "   * \"left\"는 왼손잡이, \"right\"는 오른손잡이를 의미합니다.\n",
        "* 왼손 엄지손가락을 사용한 경우는 L, 오른손 엄지손가락을 사용한 경우는 R을 순서대로 이어붙여 문자열 형태로 return 해주세요.\n",
        "\n",
        "\n",
        "\n"
      ]
    },
    {
      "cell_type": "code",
      "metadata": {
        "id": "WOh8gGCKtzNS"
      },
      "source": [
        "def solution(numbers, hand):\n",
        "    answer = ''\n",
        "    \n",
        "    if hand == \"right\":\n",
        "        h = \"R\"\n",
        "    else:\n",
        "        h = \"L\"\n",
        "\n",
        "    for i in range(len(numbers)):\n",
        "        if numbers[i] == 0:\n",
        "            numbers[i] = 11\n",
        "\n",
        "    r = 12\n",
        "    l = 10\n",
        "    for j in range(len(numbers)):\n",
        "        if numbers[j] in [1,4,7]:\n",
        "            answer += \"L\"\n",
        "            l = numbers[j]\n",
        "        elif numbers[j] in [3,6,9]:\n",
        "            answer += \"R\"\n",
        "            r = numbers[j]\n",
        "        elif numbers[j] in [2,5,8,11]:\n",
        "            r1 = abs(r-numbers[j])//3 + abs(r-numbers[j])%3\n",
        "            l1= abs(l-numbers[j])//3 + abs(l-numbers[j])%3\n",
        "            if r1 == l1:\n",
        "                answer += h\n",
        "                if h == \"R\":\n",
        "                    r = numbers[j]\n",
        "                else:\n",
        "                    l = numbers[j]\n",
        "            elif r1 < l1:\n",
        "                answer += \"R\"\n",
        "                r = numbers[j]\n",
        "            elif r1 > l1:\n",
        "                answer += \"L\"\n",
        "                l = numbers[j]\n",
        "    return answer"
      ],
      "execution_count": 1,
      "outputs": []
    },
    {
      "cell_type": "code",
      "metadata": {
        "colab": {
          "base_uri": "https://localhost:8080/",
          "height": 35
        },
        "id": "xZI10Di8v6Ez",
        "outputId": "5f0ac0f6-b545-4f15-ab58-87a890334858"
      },
      "source": [
        "num_ex = [1, 3, 4, 5, 8, 2, 1, 4, 5, 9, 5]\n",
        "h_ex = \"right\"\n",
        "solution(num_ex, h_ex)"
      ],
      "execution_count": 2,
      "outputs": [
        {
          "output_type": "execute_result",
          "data": {
            "application/vnd.google.colaboratory.intrinsic+json": {
              "type": "string"
            },
            "text/plain": [
              "'LRLLLRLLRRL'"
            ]
          },
          "metadata": {
            "tags": []
          },
          "execution_count": 2
        }
      ]
    },
    {
      "cell_type": "code",
      "metadata": {
        "colab": {
          "base_uri": "https://localhost:8080/",
          "height": 35
        },
        "id": "UTLpbDspwRi8",
        "outputId": "9c2c0d66-f587-47ea-b060-06844d8856f3"
      },
      "source": [
        "num_ex = [7, 0, 8, 2, 8, 3, 1, 5, 7, 6, 2]\n",
        "h_ex = \"left\"\n",
        "solution(num_ex, h_ex)"
      ],
      "execution_count": 3,
      "outputs": [
        {
          "output_type": "execute_result",
          "data": {
            "application/vnd.google.colaboratory.intrinsic+json": {
              "type": "string"
            },
            "text/plain": [
              "'LRLLRRLLLRR'"
            ]
          },
          "metadata": {
            "tags": []
          },
          "execution_count": 3
        }
      ]
    },
    {
      "cell_type": "code",
      "metadata": {
        "colab": {
          "base_uri": "https://localhost:8080/",
          "height": 35
        },
        "id": "IQY5BaDtwYPS",
        "outputId": "813ad1ff-3ae5-42d6-e85b-ec76b1c69f9f"
      },
      "source": [
        "num_ex = [1, 2, 3, 4, 5, 6, 7, 8, 9, 0]\n",
        "h_ex = \"right\"\n",
        "solution(num_ex, h_ex)"
      ],
      "execution_count": 4,
      "outputs": [
        {
          "output_type": "execute_result",
          "data": {
            "application/vnd.google.colaboratory.intrinsic+json": {
              "type": "string"
            },
            "text/plain": [
              "'LLRLLRLLRL'"
            ]
          },
          "metadata": {
            "tags": []
          },
          "execution_count": 4
        }
      ]
    }
  ]
}
