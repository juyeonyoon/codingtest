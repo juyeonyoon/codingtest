{
  "nbformat": 4,
  "nbformat_minor": 0,
  "metadata": {
    "colab": {
      "name": "5.ipynb",
      "provenance": [],
      "collapsed_sections": [],
      "authorship_tag": "ABX9TyOAPejkm+3WYamdQKsYUtzq"
    },
    "kernelspec": {
      "name": "python3",
      "display_name": "Python 3"
    },
    "language_info": {
      "name": "python"
    }
  },
  "cells": [
    {
      "cell_type": "markdown",
      "metadata": {
        "id": "onTW4kTznoOz"
      },
      "source": [
        "# 문제 설명\n",
        "당신은 폰켓몬을 잡기 위한 오랜 여행 끝에, 홍 박사님의 연구실에 도착했습니다. 홍 박사님은 당신에게 자신의 연구실에 있는 총 N 마리의 폰켓몬 중에서 N/2마리를 가져가도 좋다고 했습니다.\n",
        "\n",
        "홍 박사님 연구실의 폰켓몬은 종류에 따라 번호를 붙여 구분합니다. 따라서 같은 종류의 폰켓몬은 같은 번호를 가지고 있습니다. 예를 들어 연구실에 총 4마리의 폰켓몬이 있고, 각 폰켓몬의 종류 번호가 [3번, 1번, 2번, 3번]이라면 이는 3번 폰켓몬 두 마리, 1번 폰켓몬 한 마리, 2번 폰켓몬 한 마리가 있음을 나타냅니다. 이때, 4마리의 폰켓몬 중 2마리를 고르는 방법은 다음과 같이 6가지가 있습니다.\n",
        "\n",
        "\n",
        "\n",
        "1. 첫 번째(3번), 두 번째(1번) 폰켓몬을 선택 \n",
        "2. 첫 번째(3번), 세 번째(2번) 폰켓몬을 선택 \n",
        "3. 첫 번째(3번), 네 번째(3번) 폰켓몬을 선택\n",
        "4. 두 번째(1번), 세 번째(2번) 폰켓몬을 선택\n",
        "5. 두 번째(1번), 네 번째(3번) 폰켓몬을 선택\n",
        "6. 세 번째(2번), 네 번째(3번) 폰켓몬을 선택\n",
        "\n",
        "이때, 첫 번째(3번) 폰켓몬과 네 번째(3번) 폰켓몬을 선택하는 방법은 한 종류(3번 폰켓몬 두 마리)의 폰켓몬만 가질 수 있지만, 다른 방법들은 모두 두 종류의 폰켓몬을 가질 수 있습니다. 따라서 위 예시에서 가질 수 있는 폰켓몬 종류 수의 최댓값은 2가 됩니다.\n",
        "\n",
        "당신은 최대한 다양한 종류의 폰켓몬을 가지길 원하기 때문에, 최대한 많은 종류의 폰켓몬을 포함해서 N/2마리를 선택하려 합니다. N마리 폰켓몬의 종류 번호가 담긴 배열 nums가 매개변수로 주어질 때, N/2마리의 폰켓몬을 선택하는 방법 중, 가장 많은 종류의 폰켓몬을 선택하는 방법을 찾아, 그때의 폰켓몬 종류 번호의 개수를 return 하도록 solution 함수를 완성해주세요.\n",
        "\n",
        "**제한사항**\n",
        "\n",
        "\n",
        "*  nums는 폰켓몬의 종류 번호가 담긴 1차원 배열입니다. \n",
        "*  nums의 길이(N)는 1 이상 10,000 이하의 자연수이며, 항상 짝수로 주어집니다.\n",
        "*  폰켓몬의 종류 번호는 1 이상 200,000 이하의 자연수로 나타냅니다.\n",
        "*  가장 많은 종류의 폰켓몬을 선택하는 방법이 여러 가지인 경우에도, 선택할 수 있는 폰켓몬 종류 개수의 최댓값 하나만 return 하면 됩니다.\n",
        "\n",
        "\n",
        "\n"
      ]
    },
    {
      "cell_type": "code",
      "metadata": {
        "id": "jkuxYEVGnlrG"
      },
      "source": [
        "def solution(nums):\n",
        "    answer = 0\n",
        "    unique = len(set(nums))\n",
        "    if unique < len(nums)/2:\n",
        "        answer = unique\n",
        "    else:\n",
        "        answer = int(len(nums)/2)\n",
        "    return answer"
      ],
      "execution_count": 1,
      "outputs": []
    },
    {
      "cell_type": "code",
      "metadata": {
        "colab": {
          "base_uri": "https://localhost:8080/"
        },
        "id": "0-OVpUvtoNcr",
        "outputId": "bd861718-0d1f-4e45-f4c9-7bb61dd6a801"
      },
      "source": [
        "nums_ex = [3,1,2,3]\n",
        "solution(nums_ex)"
      ],
      "execution_count": 2,
      "outputs": [
        {
          "output_type": "execute_result",
          "data": {
            "text/plain": [
              "2"
            ]
          },
          "metadata": {
            "tags": []
          },
          "execution_count": 2
        }
      ]
    },
    {
      "cell_type": "code",
      "metadata": {
        "colab": {
          "base_uri": "https://localhost:8080/"
        },
        "id": "iIEni98uoN1x",
        "outputId": "c0915ae7-70cc-4889-f8f5-0b63a9a024bf"
      },
      "source": [
        "nums_ex = [3,3,3,2,2,4]\n",
        "solution(nums_ex)"
      ],
      "execution_count": 3,
      "outputs": [
        {
          "output_type": "execute_result",
          "data": {
            "text/plain": [
              "3"
            ]
          },
          "metadata": {
            "tags": []
          },
          "execution_count": 3
        }
      ]
    },
    {
      "cell_type": "code",
      "metadata": {
        "colab": {
          "base_uri": "https://localhost:8080/"
        },
        "id": "CXcvn7w0oOKv",
        "outputId": "d77cc32a-b4cb-413a-e0f3-80e46db04f65"
      },
      "source": [
        "nums_ex = [3,3,3,2,2,2]\n",
        "solution(nums_ex)"
      ],
      "execution_count": 4,
      "outputs": [
        {
          "output_type": "execute_result",
          "data": {
            "text/plain": [
              "2"
            ]
          },
          "metadata": {
            "tags": []
          },
          "execution_count": 4
        }
      ]
    }
  ]
}
