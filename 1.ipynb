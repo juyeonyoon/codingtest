{
  "nbformat": 4,
  "nbformat_minor": 0,
  "metadata": {
    "colab": {
      "name": "1.ipynb",
      "provenance": [],
      "collapsed_sections": [],
      "authorship_tag": "ABX9TyM2HEU28jDqQWf/fpNXsP0g"
    },
    "kernelspec": {
      "name": "python3",
      "display_name": "Python 3"
    },
    "language_info": {
      "name": "python"
    }
  },
  "cells": [
    {
      "cell_type": "markdown",
      "metadata": {
        "id": "msCi7t72gn7d"
      },
      "source": [
        "# 문제 설명\n",
        "수많은 마라톤 선수들이 마라톤에 참여하였습니다. 단 한 명의 선수를 제외하고는 모든 선수가 마라톤을 완주하였습니다.\n",
        "\n",
        "마라톤에 참여한 선수들의 이름이 담긴 배열 participant와 완주한 선수들의 이름이 담긴 배열 completion이 주어질 때, 완주하지 못한 선수의 이름을 return 하도록 solution 함수를 작성해주세요.\n",
        "\n",
        "**제한사항**\n",
        "* 마라톤 경기에 참여한 선수의 수는 1명 이상 100,000명 이하입니다.\n",
        "* completion의 길이는 participant의 길이보다 1 작습니다.\n",
        "\n",
        "* 참가자의 이름은 1개 이상 20개 이하의 알파벳 소문자로 이루어져 있습니다.\n",
        "\n",
        "* 참가자 중에는 동명이인이 있을 수 있습니다.\n"
      ]
    },
    {
      "cell_type": "code",
      "metadata": {
        "id": "OGu8dHfigi1d"
      },
      "source": [
        "def solution(participant, completion):\n",
        "    answer = ''\n",
        "    par = sorted(participant)\n",
        "    com = sorted(completion)\n",
        "    for i in range(len(com)):\n",
        "        if par[i] == com[i]:\n",
        "            answer = par[i+1]\n",
        "        elif par[i] != com[i]:\n",
        "            answer = par[i]\n",
        "            break\n",
        "    return answer"
      ],
      "execution_count": null,
      "outputs": []
    },
    {
      "cell_type": "code",
      "metadata": {
        "colab": {
          "base_uri": "https://localhost:8080/",
          "height": 35
        },
        "id": "6l8dPUPZhNDi",
        "outputId": "3581a1b0-2a1f-4771-d1d7-30b2295885a5"
      },
      "source": [
        "par_ex = [\"leo\", \"kiki\", \"eden\"]\n",
        "com_ex = [\"eden\", \"kiki\"]\n",
        "solution(par_ex, com_ex)"
      ],
      "execution_count": null,
      "outputs": [
        {
          "output_type": "execute_result",
          "data": {
            "application/vnd.google.colaboratory.intrinsic+json": {
              "type": "string"
            },
            "text/plain": [
              "'leo'"
            ]
          },
          "metadata": {
            "tags": []
          },
          "execution_count": 3
        }
      ]
    },
    {
      "cell_type": "code",
      "metadata": {
        "colab": {
          "base_uri": "https://localhost:8080/",
          "height": 35
        },
        "id": "6HRgd-Ishwer",
        "outputId": "646ab7dc-5c63-4e44-dc81-bd0d332bc8d4"
      },
      "source": [
        "par_ex = [\"marina\", \"josipa\", \"nikola\", \"vinko\", \"filipa\"]\n",
        "com_ex = [\"josipa\", \"filipa\", \"marina\", \"nikola\"]\n",
        "solution(par_ex, com_ex)"
      ],
      "execution_count": null,
      "outputs": [
        {
          "output_type": "execute_result",
          "data": {
            "application/vnd.google.colaboratory.intrinsic+json": {
              "type": "string"
            },
            "text/plain": [
              "'vinko'"
            ]
          },
          "metadata": {
            "tags": []
          },
          "execution_count": 4
        }
      ]
    },
    {
      "cell_type": "code",
      "metadata": {
        "colab": {
          "base_uri": "https://localhost:8080/",
          "height": 35
        },
        "id": "vspXcp_Uh4EG",
        "outputId": "ff88f5c1-79b7-4a19-a509-a5aee8bdebc9"
      },
      "source": [
        "par_ex = [\"mislav\", \"stanko\", \"mislav\", \"ana\"]\n",
        "com_ex = [\"stanko\", \"ana\", \"mislav\"]\n",
        "solution(par_ex, com_ex)"
      ],
      "execution_count": null,
      "outputs": [
        {
          "output_type": "execute_result",
          "data": {
            "application/vnd.google.colaboratory.intrinsic+json": {
              "type": "string"
            },
            "text/plain": [
              "'mislav'"
            ]
          },
          "metadata": {
            "tags": []
          },
          "execution_count": 5
        }
      ]
    }
  ]
}