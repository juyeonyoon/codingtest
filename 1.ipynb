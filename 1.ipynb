{
  "nbformat": 4,
  "nbformat_minor": 0,
  "metadata": {
    "colab": {
      "name": "1.ipynb",
      "provenance": [],
      "authorship_tag": "ABX9TyMlOhd6aNPS8p40qtXyqQH1"
    },
    "kernelspec": {
      "name": "python3",
      "display_name": "Python 3"
    },
    "language_info": {
      "name": "python"
    }
  },
  "cells": [
    {
      "cell_type": "markdown",
      "metadata": {
        "id": "IJqz80w5rOib"
      },
      "source": [
        "# 문제 설명: 다트 게임\n",
        "카카오톡 게임별의 하반기 신규 서비스로 다트 게임을 출시하기로 했다. 다트 게임은 다트판에 다트를 세 차례 던져 그 점수의 합계로 실력을 겨루는 게임으로, 모두가 간단히 즐길 수 있다.\n",
        "갓 입사한 무지는 코딩 실력을 인정받아 게임의 핵심 부분인 점수 계산 로직을 맡게 되었다. 다트 게임의 점수 계산 로직은 아래와 같다.\n",
        "\n",
        "\n",
        "\n",
        "1. 다트 게임은 총 3번의 기회로 구성된다.  \n",
        "2. 각 기회마다 얻을 수 있는 점수는 0점에서 10점까지이다. \n",
        "3. 점수와 함께 Single(S), Double(D), Triple(T) 영역이 존재하고 각 영역 당첨 시 점수에서 1제곱, 2제곱, 3제곱 (점수1 , 점수2 , 점수3 )으로 계산된다.\n",
        "4. 옵션으로 스타상(*) , 아차상(#)이 존재하며 스타상(*) 당첨 시 해당 점수와 바로 전에 얻은 점수를 각 2배로 만든다.아차상(#) 당첨 시 해당 점수는 마이너스된다.\n",
        "5. 스타상(*)은 첫 번째 기회에서도 나올 수 있다. 이 경우 첫 번째 스타상(*)의 점수만 2배가 된다.\n",
        "6. 스타상(*)의 효과는 다른 스타상(*)의 효과와 중첩될 수 있다. 이 경우 중첩된 스타상(*) 점수는 4배가 된다.\n",
        "7. 스타상(*)의 효과는 아차상(#)의 효과와 중첩될 수 있다. 이 경우 중첩된 아차상(#)의 점수는 -2배가 된다.\n",
        "8. Single(S), Double(D), Triple(T)은 점수마다 하나씩 존재한다.\n",
        "9. 스타상(*), 아차상(#)은 점수마다 둘 중 하나만 존재할 수 있으며, 존재하지 않을 수도 있다.\n",
        "10. 0~10의 정수와 문자 S, D, T, *, #로 구성된 문자열이 입력될 시 총점수를 반환하는 함수를 작성하라.\n",
        "\n",
        "**입력 형식**\n",
        "\n",
        "\"점수|보너스|[옵션]\"으로 이루어진 문자열 3세트.\n",
        "\n",
        "예) 1S2D*3T\n",
        "\n",
        "* 점수는 0에서 10 사이의 정수이다.\n",
        "*  보너스는 S, D, T 중 하나이다. \n",
        "*  옵선은 *이나 # 중 하나이며, 없을 수도 있다.\n",
        "\n",
        "**출력 형식**\n",
        "\n",
        "3번의 기회에서 얻은 점수 합계에 해당하는 정수값을 출력한다.\n",
        "\n",
        "예) 37"
      ]
    },
    {
      "cell_type": "code",
      "metadata": {
        "id": "J1xq2zCbrEyD"
      },
      "source": [
        "import re\n",
        "\n",
        "def solution(dartResult):\n",
        "    answer = 0\n",
        "    a = re.compile('(\\d+)([SDT])([*#]?)')\n",
        "    dart = a.findall(dartResult) \n",
        "\n",
        "    bonus = {'S' : 1, 'D' : 2, 'T' : 3}\n",
        "    option = {'' : 1, '*' : 2, '#' : -1}\n",
        "\n",
        "    for i in range(len(dart)):\n",
        "        if dart[i][2] == '*' and i > 0:\n",
        "            dart[i-1] *= 2\n",
        "        dart[i] = int(dart[i][0]) ** bonus[dart[i][1]] * option[dart[i][2]]\n",
        "\n",
        "    answer = sum(dart)\n",
        "\n",
        "    return answer"
      ],
      "execution_count": 1,
      "outputs": []
    },
    {
      "cell_type": "code",
      "metadata": {
        "colab": {
          "base_uri": "https://localhost:8080/"
        },
        "id": "ru9lAmF6spE9",
        "outputId": "0dec9d38-1b9d-40ad-d027-326a070b293d"
      },
      "source": [
        "# 11 * 2 + 22 * 2 + 33\n",
        "result_ex = \"1S2D*3T\"   \n",
        "solution(result_ex)  "
      ],
      "execution_count": 3,
      "outputs": [
        {
          "output_type": "execute_result",
          "data": {
            "text/plain": [
              "37"
            ]
          },
          "metadata": {
            "tags": []
          },
          "execution_count": 3
        }
      ]
    },
    {
      "cell_type": "code",
      "metadata": {
        "colab": {
          "base_uri": "https://localhost:8080/"
        },
        "id": "6JYnOL2ds_aJ",
        "outputId": "f1620143-f6ea-4cc6-a70f-b5c7a6574181"
      },
      "source": [
        "# 12 + 21 * (-1) + 101\n",
        "result_ex = \"1D2S#10S\"\n",
        "solution(result_ex)"
      ],
      "execution_count": 4,
      "outputs": [
        {
          "output_type": "execute_result",
          "data": {
            "text/plain": [
              "9"
            ]
          },
          "metadata": {
            "tags": []
          },
          "execution_count": 4
        }
      ]
    },
    {
      "cell_type": "code",
      "metadata": {
        "colab": {
          "base_uri": "https://localhost:8080/"
        },
        "id": "AHD81RjJs_80",
        "outputId": "ffffa1a2-33f9-4cca-8780-0c1d3af5e35b"
      },
      "source": [
        "# 12 + 21 + 03\n",
        "result_ex = \"1D2S0T\"\n",
        "solution(result_ex)"
      ],
      "execution_count": 5,
      "outputs": [
        {
          "output_type": "execute_result",
          "data": {
            "text/plain": [
              "3"
            ]
          },
          "metadata": {
            "tags": []
          },
          "execution_count": 5
        }
      ]
    },
    {
      "cell_type": "code",
      "metadata": {
        "colab": {
          "base_uri": "https://localhost:8080/"
        },
        "id": "s4ulPA80tAhz",
        "outputId": "d5dff583-88a4-48d0-bf8e-f2c440db9000"
      },
      "source": [
        "# 11 * 2 * 2 + 23 * 2 + 31\n",
        "result_ex = \"1S*2T*3S\"\n",
        "solution(result_ex)"
      ],
      "execution_count": 6,
      "outputs": [
        {
          "output_type": "execute_result",
          "data": {
            "text/plain": [
              "23"
            ]
          },
          "metadata": {
            "tags": []
          },
          "execution_count": 6
        }
      ]
    }
  ]
}